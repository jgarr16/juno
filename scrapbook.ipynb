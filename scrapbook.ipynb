{
 "cells": [
  {
   "cell_type": "code",
   "execution_count": 1,
   "id": "dominican-joyce",
   "metadata": {},
   "outputs": [
    {
     "name": "stdout",
     "output_type": "stream",
     "text": [
      "/Users/jrgarrigues/repos/nlp/jupyter\n"
     ]
    }
   ],
   "source": [
    "!pwd"
   ]
  },
  {
   "cell_type": "code",
   "execution_count": 62,
   "id": "mathematical-alliance",
   "metadata": {},
   "outputs": [
    {
     "name": "stdout",
     "output_type": "stream",
     "text": [
      "PWD: /Users/jrgarrigues/repos/nlp/jupyter\n",
      "Venv: jupyter\n",
      "Run a command that's only available in the current venv\n",
      "/Users/jrgarrigues/repos/nlp/jupyter/lib/python3.9/site-packages/jupyter_server/transutils.py:13: FutureWarning: The alias `_()` will be deprecated. Use `_i18n()` instead.\n",
      "  warnings.warn(warn_msg, FutureWarning)\n",
      "3.0.12\n",
      "Deactivate jupyter venv and CD\n",
      "\n",
      "PWD: /Users/jrgarrigues/repos/oreilly_video/oreilly\n",
      "Activate oreilly venv\n",
      "Venv: oreilly\n",
      "Run a command that's only available in the current venv\n",
      "2021.03.14\n",
      "Deactivate oreilly venv\n",
      "CD\n",
      "\n",
      "PWD: /Users/jrgarrigues/repos/nlp/jupyter\n",
      "Activate jupyter venv\n",
      "Venv: jupyter\n",
      "Run a command that's only available in the current venv\n",
      "/Users/jrgarrigues/repos/nlp/jupyter/lib/python3.9/site-packages/jupyter_server/transutils.py:13: FutureWarning: The alias `_()` will be deprecated. Use `_i18n()` instead.\n",
      "  warnings.warn(warn_msg, FutureWarning)\n",
      "3.0.12\n"
     ]
    }
   ],
   "source": [
    "!echo \"PWD: $(pwd)\";echo \"Venv: $(basename $VIRTUAL_ENV)\";echo \"Run a command that's only available in the current venv\";echo \"$(jupyter-lab --version)\";echo \"Deactivate $(basename $VIRTUAL_ENV) venv and CD\";echo \"\";cd /Users/jrgarrigues/repos/oreilly_video/oreilly;echo \"PWD: $(pwd)\";source bin/activate;echo \"Activate $(basename $VIRTUAL_ENV) venv\";echo \"Venv: $(basename $VIRTUAL_ENV)\";echo \"Run a command that's only available in the current venv\";echo \"$(youtube-dl --version)\";echo \"Deactivate $(basename $VIRTUAL_ENV) venv\";deactivate;echo \"CD\";echo \"\";cd -;echo \"PWD: $(pwd)\";source bin/activate;echo \"Activate $(basename $VIRTUAL_ENV) venv\";echo \"Venv: $(basename $VIRTUAL_ENV)\";echo \"Run a command that's only available in the current venv\";echo \"$(jupyter-lab --version)\";"
   ]
  },
  {
   "cell_type": "code",
   "execution_count": 51,
   "id": "official-jonathan",
   "metadata": {},
   "outputs": [
    {
     "name": "stdout",
     "output_type": "stream",
     "text": [
      "jupyter\n"
     ]
    }
   ],
   "source": [
    "!echo `basename $VIRTUAL_ENV`"
   ]
  },
  {
   "cell_type": "code",
   "execution_count": 58,
   "id": "portable-terry",
   "metadata": {},
   "outputs": [
    {
     "name": "stdout",
     "output_type": "stream",
     "text": [
      "zsh:1: command not found: deactivate\n"
     ]
    }
   ],
   "source": [
    "!deactivate"
   ]
  },
  {
   "cell_type": "code",
   "execution_count": 57,
   "id": "fallen-delight",
   "metadata": {},
   "outputs": [
    {
     "name": "stdout",
     "output_type": "stream",
     "text": [
      "jupyter\n"
     ]
    }
   ],
   "source": [
    "!basename $VIRTUAL_ENV"
   ]
  },
  {
   "cell_type": "code",
   "execution_count": 56,
   "id": "imported-arthur",
   "metadata": {},
   "outputs": [
    {
     "name": "stdout",
     "output_type": "stream",
     "text": [
      "/Users/jrgarrigues/repos/nlp/jupyter\n"
     ]
    }
   ],
   "source": [
    "!pwd"
   ]
  },
  {
   "cell_type": "code",
   "execution_count": 59,
   "id": "isolated-locator",
   "metadata": {},
   "outputs": [
    {
     "name": "stdout",
     "output_type": "stream",
     "text": [
      "jupyter\n"
     ]
    }
   ],
   "source": [
    "!source bin/activate;basename $VIRTUAL_ENV;deactivate"
   ]
  },
  {
   "cell_type": "code",
   "execution_count": 60,
   "id": "atmospheric-recall",
   "metadata": {},
   "outputs": [
    {
     "name": "stdout",
     "output_type": "stream",
     "text": [
      "jupyter\n"
     ]
    }
   ],
   "source": [
    "!basename $VIRTUAL_ENV"
   ]
  },
  {
   "cell_type": "code",
   "execution_count": null,
   "id": "conservative-arctic",
   "metadata": {},
   "outputs": [],
   "source": []
  }
 ],
 "metadata": {
  "kernelspec": {
   "display_name": "Python 3",
   "language": "python",
   "name": "python3"
  },
  "language_info": {
   "codemirror_mode": {
    "name": "ipython",
    "version": 3
   },
   "file_extension": ".py",
   "mimetype": "text/x-python",
   "name": "python",
   "nbconvert_exporter": "python",
   "pygments_lexer": "ipython3",
   "version": "3.9.1"
  }
 },
 "nbformat": 4,
 "nbformat_minor": 5
}
